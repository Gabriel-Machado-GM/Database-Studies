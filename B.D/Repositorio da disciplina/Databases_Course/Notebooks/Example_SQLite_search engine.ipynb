{
 "cells": [
  {
   "cell_type": "markdown",
   "metadata": {},
   "source": [
    "## Introduction to Databases\n",
    "\n",
    "### Databases for SRI Search and Ranking"
   ]
  },
  {
   "cell_type": "code",
   "execution_count": 2,
   "metadata": {},
   "outputs": [],
   "source": [
    "import os\n",
    "import re\n",
    "import nltk\n",
    "import matplotlib.pyplot as plt\n",
    "import pandas as pd\n",
    "import pandas.io.sql as psql\n",
    "from IPython.display import Image, HTML, IFrame, FileLink, FileLinks #needed to render in notebook\n",
    "from IPython.core.display import display\n",
    "from bs4 import BeautifulSoup\n",
    "import urllib\n",
    "from urllib.parse import urljoin\n",
    "from sqlite3 import dbapi2 as sqlite\n",
    "\n",
    "%matplotlib inline\n",
    "# Set default figure size for this notebook\n",
    "plt.rcParams['figure.figsize'] = (16.0, 12.8)"
   ]
  },
  {
   "cell_type": "markdown",
   "metadata": {},
   "source": [
    "Specifying the path to the files"
   ]
  },
  {
   "cell_type": "code",
   "execution_count": 3,
   "metadata": {},
   "outputs": [],
   "source": [
    "outputs = \"../SampleDBs/\"\n",
    "\n",
    "dbfile = \"searchindex.sqlite\"\n",
    "db = os.path.join(outputs,dbfile)\n",
    "\n",
    "stoplist_en = nltk.corpus.stopwords.words('english')\n",
    "stoplist_pt = nltk.corpus.stopwords.words('portuguese')\n",
    "ignorewords = stoplist_en + stoplist_pt"
   ]
  },
  {
   "cell_type": "markdown",
   "metadata": {},
   "source": [
    "#### First block of classes and functions: crawling"
   ]
  },
  {
   "cell_type": "code",
   "execution_count": 4,
   "metadata": {},
   "outputs": [
    {
     "data": {
      "image/png": "[encoded data removed]",
      "text/plain": [
       "<IPython.core.display.Image object>"
      ]
     },
     "execution_count": 4,
     "metadata": {},
     "output_type": "execute_result"
    }
   ],
   "source": [
    "Image(filename='../SampleDBs/db_schema.png')"
   ]
  },
  {
   "cell_type": "code",
   "execution_count": 6,
   "metadata": {
    "collapsed": true,
    "jupyter": {
     "outputs_hidden": true
    }
   },
   "outputs": [],
   "source": [
    "class crawler:\n",
    "    def __init__(self,dbname):\n",
    "        self.con=sqlite.connect(dbname)\n",
    "        \n",
    "    def __del__(self):\n",
    "        self.con.close()\n",
    "\n",
    "    def dbcommit(self):\n",
    "        self.con.commit()\n",
    "\n",
    "    def createindextables(self):\n",
    "        self.con.execute('create table if not exists urllist(url)')\n",
    "        self.con.execute('create table if not exists wordlist(word)')\n",
    "        self.con.execute('create table if not exists wordlocation(urlid,wordid,location)')\n",
    "        self.con.execute('create table if not exists link(fromid integer,toid integer)')\n",
    "        self.con.execute('create table if not exists linkwords(wordid,linkid)')\n",
    "        self.con.execute('create index if not exists wordidx on wordlist(word)')\n",
    "        self.con.execute('create index if not exists urlidx on urllist(url)')\n",
    "        self.con.execute('create index if not exists wordurlidx on wordlocation(wordid)')\n",
    "        self.con.execute('create index if not exists urltoidx on link(toid)')\n",
    "        self.con.execute('create index if not exists urlfromidx on link(fromid)')\n",
    "        self.dbcommit()\n",
    "\n",
    "    def isindexed(self,url):\n",
    "        '''Verify whether url is already indexed'''\n",
    "        q = \"select rowid from urllist where url='{}'\"\n",
    "        u = self.con.execute(q.format(url)).fetchone()\n",
    "        if u != None:\n",
    "            q = \"select * from wordlocation where urlid={}\"\n",
    "            v = self.con.execute(q.format(u[0])).fetchone()\n",
    "            if v != None:\n",
    "                return True\n",
    "        return False        \n",
    "\n",
    "    def gettextonly(self,soup):\n",
    "        '''Extract raw text from html page'''\n",
    "        v = soup.string\n",
    "        if v == None:   \n",
    "            c = soup.contents\n",
    "            resulttext = ''\n",
    "            for t in c:\n",
    "                subtext = self.gettextonly(t)\n",
    "                resulttext += subtext+'\\n'\n",
    "            return resulttext\n",
    "        else:\n",
    "            return v.strip()\n",
    "\n",
    "    def separatewords(self,text):\n",
    "        '''splits the sentences by the non alpha characters\n",
    "        and converts all words to lowercase'''\n",
    "        splitter = re.compile('\\\\W*', flags=re.U)\n",
    "        return [s.lower() for s in splitter.split(text) if s != '']\n",
    "\n",
    "    def getentryid(self, table, field, value, createnew=True):\n",
    "        '''Add page id to the database, if not present'''\n",
    "        q = \"select rowid from {} where {}='{}'\"\n",
    "        cursor = self.con.execute(q.format(table,field,value))\n",
    "        result = cursor.fetchone()\n",
    "        if result == None:\n",
    "            q = \"insert into {} ({}) values ('{}')\"\n",
    "            cursor = self.con.execute(q.format(table,field,value))\n",
    "            return cursor.lastrowid\n",
    "        else:\n",
    "            return result[0]     \n",
    "\n",
    "    def addtoindex(self,url,sopa):\n",
    "        '''Add url to the index if not there'''\n",
    "        if self.isindexed(url): \n",
    "            print('Page {} already indexed...'.format(url))\n",
    "            return\n",
    "        print('Indexing: {}'.format(url))\n",
    "        text = self.gettextonly(sopa)\n",
    "        words = self.separatewords(text)\n",
    "        urlid = self.getentryid('urllist', 'url', url)\n",
    "        for i in range(len(words)):\n",
    "            word = words[i]\n",
    "            if word in ignorewords: \n",
    "                continue\n",
    "            wordid = self.getentryid('wordlist','word',word)\n",
    "            q = \"insert into wordlocation (urlid,wordid,location) values ({},{},{})\"\n",
    "            self.con.execute(q.format(urlid,wordid,i))\n",
    "        \n",
    "    def addlinkref(self,urlFrom,urlTo,linkText):\n",
    "        '''Add a link between two pages'''\n",
    "        words = self.separatewords(linkText)\n",
    "        fromid = self.getentryid('urllist','url', urlFrom)\n",
    "        toid = self.getentryid('urllist','url', urlTo)\n",
    "        if fromid == toid:\n",
    "            return\n",
    "        q = \"insert into link(fromid,toid) values ({},{})\"\n",
    "        cursor = self.con.execute(q.format(fromid,toid))\n",
    "        linkid = cursor.lastrowid\n",
    "        for word in words:\n",
    "            if word in ignorewords: \n",
    "                continue\n",
    "            wordid = self.getentryid('wordlist','word', word)\n",
    "            q = \"insert into linkwords(linkid,wordid) values ({},{})\"\n",
    "            self.con.execute(q.format(linkid,wordid))\n",
    "    \n",
    "    def crawl(self,pages,depth=1):\n",
    "        '''Starts indexing seed page(s), goes indexing all pages following\n",
    "        breadth first, until the desired depth'''\n",
    "        print('Seed URL(s)')        \n",
    "        for p in pages: print(p)\n",
    "        print('\\nIndexing from seed with depth of {}\\n'.format(depth))\n",
    "        for i in range(depth+1):\n",
    "            newpages = {}\n",
    "            for page in pages:\n",
    "                try:\n",
    "                    c = urllib.request.urlopen(page)\n",
    "                except:\n",
    "                    print(u'Could not access page: {}'.format(page))\n",
    "                    continue\n",
    "                try:\n",
    "                    p = c.read()\n",
    "                    soup = BeautifulSoup(p, \"lxml\")\n",
    "                    self.addtoindex(page,soup)\n",
    "                    links = soup('a')\n",
    "                    for link in links:\n",
    "                        if ('href' in dict(link.attrs)):\n",
    "                            url = urljoin(page,link['href'])\n",
    "                            if url.find(\"'\") != -1:\n",
    "                                continue\n",
    "                            url = url.split('#')[0]  #Keeps base url\n",
    "                            if url[0:4] == 'http' and not self.isindexed(url):\n",
    "                                newpages[url] = 1\n",
    "                            linkText = self.gettextonly(link)\n",
    "                            self.addlinkref(page,url,linkText)\n",
    "                    self.dbcommit()\n",
    "                except:\n",
    "                    print(\"Could not parse page {}\".format(page))\n",
    "                    raise\n",
    "            self.dbcommit()\n",
    "            pages = newpages\n",
    "\n",
    "    def calculatepagerank(self,iterations=20):\n",
    "        '''Initialize each url with pagerank = 1, and iterates until\n",
    "        it reaches the limit. Calculates pagerank with damping factor'''\n",
    "        self.con.execute('drop table if exists pagerank')\n",
    "        self.dbcommit()\n",
    "        self.con.execute('create table pagerank(urlid primary key,score)')\n",
    "        for (urlid,) in self.con.execute('select rowid from urllist'):\n",
    "            q = 'insert into pagerank(urlid,score) values ({},1.0)'\n",
    "            self.con.execute(q.format(urlid))\n",
    "        self.dbcommit()\n",
    "        for i in range(iterations):\n",
    "            print(\"Iteration {}\".format(i))\n",
    "            for (urlid,) in self.con.execute('select rowid from urllist'):\n",
    "                pr = 0.15\n",
    "                q1 = 'select distinct fromid from link where toid = {}'\n",
    "                for (linker,) in self.con.execute(q1.format(urlid)):\n",
    "                    q2 = 'select score from pagerank where urlid = {}'\n",
    "                    linkingpr = self.con.execute(q2.format(linker)).fetchone()[0]\n",
    "                    q3 = 'select count(*) from link where fromid = {}'\n",
    "                    linkingcount = self.con.execute(q3.format(linker)).fetchone()[0]\n",
    "                    pr += 0.85 * (linkingpr/linkingcount)\n",
    "                q4 = 'update pagerank set score = {} where urlid = {}'\n",
    "                self.con.execute(q4.format(pr,urlid))\n",
    "            self.dbcommit()"
   ]
  },
  {
   "cell_type": "markdown",
   "metadata": {},
   "source": [
    "#### Second block of classes and functions: searching"
   ]
  },
  {
   "cell_type": "code",
   "execution_count": 7,
   "metadata": {
    "collapsed": true,
    "jupyter": {
     "outputs_hidden": true
    }
   },
   "outputs": [],
   "source": [
    "class searcher:\n",
    "    def __init__(self,dbname):\n",
    "        self.con=sqlite.connect(dbname)\n",
    "\n",
    "    def __del__(self):\n",
    "        self.con.close()\n",
    "\n",
    "    def getmatchrows(self,q):\n",
    "        fieldlist='w0.urlid'\n",
    "        tablelist=''  \n",
    "        clauselist=''\n",
    "        wordids=[]\n",
    "        words=q.split(' ')  \n",
    "        tablenumber=0\n",
    "        for word in words:\n",
    "            q = \"select rowid from wordlist where word='{}'\"\n",
    "            wordrow = self.con.execute(q.format(word)).fetchone()\n",
    "            if wordrow != None:\n",
    "                wordid = wordrow[0]\n",
    "                wordids.append(wordid)\n",
    "                if tablenumber > 0:\n",
    "                    tablelist += ','\n",
    "                    clauselist += ' and '\n",
    "                    clauselist += 'w{}.urlid=w{}.urlid and '.format(tablenumber-1,tablenumber)\n",
    "                fieldlist += ',w{}.location'.format(tablenumber)\n",
    "                tablelist += 'wordlocation w{}'.format(tablenumber)   \n",
    "                clauselist += 'w{}.wordid={}'.format(tablenumber,wordid)\n",
    "                tablenumber += 1\n",
    "        fullquery = 'select {} from {} where {}'.format(fieldlist,tablelist,clauselist)\n",
    "        cursor = self.con.execute(fullquery)\n",
    "        rows = [row for row in cursor]\n",
    "        return rows, wordids\n",
    "\n",
    "    def getscoredlist(self,rows,wordids):\n",
    "        totalscores = dict([(row[0],0) for row in rows])\n",
    "        weights=[(1.0,self.frequencyscore(rows)),\n",
    "                 (1.0,self.locationscore(rows)), \n",
    "                 (1.0,self.distancescore(rows)),\n",
    "                 (1.0,self.inboundlinkscore(rows)),\n",
    "                 (1.0,self.linktextscore(rows,wordids)),\n",
    "                 (1.0,self.pagerankscore(rows))]\n",
    "        for (weight,scores) in weights:\n",
    "            for url in totalscores:\n",
    "                totalscores[url] += weight*scores[url]\n",
    "        return totalscores\n",
    "\n",
    "    def geturlname(self,id):\n",
    "        q = \"select url from urllist where rowid = {}\"\n",
    "        return self.con.execute(q.format(id)).fetchone()[0]\n",
    "\n",
    "    def query(self,q):\n",
    "        try:\n",
    "            rows,wordids = self.getmatchrows(q)\n",
    "        except:\n",
    "            print('No results in the database...')\n",
    "            return\n",
    "        scores = self.getscoredlist(rows,wordids)\n",
    "        rankedscores = [(score,url) for (url,score) in scores.items()]\n",
    "        rankedscores.sort()\n",
    "        rankedscores.reverse()\n",
    "        print('\\nResultados para busca por {}:'.format(q))\n",
    "        for (score,urlid) in rankedscores[0:10]:\n",
    "            print('{}\\t{}'.format(score, self.geturlname(urlid)))\n",
    "        return wordids,[r[1] for r in rankedscores[0:10]]\n",
    "\n",
    "    def normalizescores(self,scores,smallIsBetter=0):\n",
    "        vsmall=0.00001 # Avoiding division by zero\n",
    "        if smallIsBetter:\n",
    "            minscore = min(scores.values())\n",
    "            return dict([(u,float(minscore)/max(vsmall,l)) for (u,l) in scores.items()])\n",
    "        else:\n",
    "            maxscore = max(scores.values())\n",
    "            if maxscore == 0:\n",
    "                maxscore = vsmall\n",
    "            return dict([(u,float(c)/maxscore) for (u,c) in scores.items()])\n",
    "\n",
    "    def frequencyscore(self,rows):\n",
    "        counts = dict([(row[0],0) for row in rows])\n",
    "        for row in rows:\n",
    "            counts[row[0]] += 1\n",
    "        return self.normalizescores(counts)\n",
    "\n",
    "    def locationscore(self,rows):\n",
    "        locations = dict([(row[0],1000000) for row in rows])\n",
    "        for row in rows:\n",
    "            loc = sum(row[1:])\n",
    "            if loc < locations[row[0]]:\n",
    "                locations[row[0]] = loc\n",
    "        return self.normalizescores(locations,smallIsBetter=1)\n",
    "\n",
    "    def distancescore(self,rows):\n",
    "        if len(rows[0]) <= 2: \n",
    "            return dict([(row[0],1.0) for row in rows])\n",
    "        mindistance = dict([(row[0],1000000) for row in rows])\n",
    "        for row in rows:\n",
    "            dist = sum([abs(row[i]-row[i-1]) for i in range(1,len(row))])\n",
    "            if dist < mindistance[row[0]]:\n",
    "                mindistance[row[0]]=dist\n",
    "        return self.normalizescores(mindistance,smallIsBetter=1)\n",
    "\n",
    "    def inboundlinkscore(self,rows):\n",
    "        uniqueurls = dict([(row[0],1) for row in rows])\n",
    "        q = 'select count(*) from link where toid = {}'\n",
    "        inboundcount = dict([(u,self.con.execute(q.format(u)).fetchone()[0]) for u in uniqueurls])   \n",
    "        return self.normalizescores(inboundcount)\n",
    "\n",
    "    def linktextscore(self,rows,wordids):\n",
    "        linkscores = dict([(row[0],0) for row in rows])\n",
    "        for wordid in wordids:\n",
    "            q = 'select link.fromid,link.toid from linkwords,'\n",
    "            q += 'link where wordid={} and linkwords.linkid=link.rowid'\n",
    "            cursor = self.con.execute(q.format(wordid))\n",
    "            for (fromid,toid) in cursor:\n",
    "                if toid in linkscores:\n",
    "                    q = 'select score from pagerank where urlid={}'\n",
    "                    pr=self.con.execute(q.format(fromid)).fetchone()[0]\n",
    "                    linkscores[toid] += pr\n",
    "        maxscore = max(linkscores.values())\n",
    "        normalizedscores = dict([(u,float(l)/maxscore) for (u,l) in linkscores.items()])\n",
    "        return normalizedscores\n",
    "\n",
    "    def pagerankscore(self,rows):\n",
    "        q = 'select score from pagerank where urlid={}'\n",
    "        pageranks=dict([(row[0],self.con.execute(q.format(row[0])).fetchone()[0]) for row in rows])\n",
    "        maxrank = max(pageranks.values())\n",
    "        normalizedscores = dict([(u,float(l)/maxrank) for (u,l) in pageranks.items()])\n",
    "        return normalizedscores"
   ]
  },
  {
   "cell_type": "markdown",
   "metadata": {},
   "source": [
    "Defining seed pages"
   ]
  },
  {
   "cell_type": "code",
   "execution_count": 8,
   "metadata": {
    "collapsed": true,
    "jupyter": {
     "outputs_hidden": true
    }
   },
   "outputs": [],
   "source": [
    "seed1 = ['http://www.oglobo.com/']\n",
    "seed2 = ['http://emap.fgv.br/']"
   ]
  },
  {
   "cell_type": "markdown",
   "metadata": {},
   "source": [
    "Instantiating the crawler"
   ]
  },
  {
   "cell_type": "code",
   "execution_count": 9,
   "metadata": {
    "collapsed": true,
    "jupyter": {
     "outputs_hidden": true
    }
   },
   "outputs": [],
   "source": [
    "crawl = crawler(db)"
   ]
  },
  {
   "cell_type": "markdown",
   "metadata": {},
   "source": [
    "Creating tables - needed only in the first time"
   ]
  },
  {
   "cell_type": "code",
   "execution_count": 10,
   "metadata": {
    "collapsed": true,
    "jupyter": {
     "outputs_hidden": true
    }
   },
   "outputs": [],
   "source": [
    "crawl.createindextables()"
   ]
  },
  {
   "cell_type": "markdown",
   "metadata": {},
   "source": [
    "Crawling to a specific depth level"
   ]
  },
  {
   "cell_type": "code",
   "execution_count": 11,
   "metadata": {},
   "outputs": [
    {
     "name": "stdout",
     "output_type": "stream",
     "text": [
      "Seed URL(s)\n",
      "http://emap.fgv.br/\n",
      "\n",
      "Indexing from seed with depth of 1\n",
      "\n",
      "Indexing: http://emap.fgv.br/\n"
     ]
    },
    {
     "name": "stderr",
     "output_type": "stream",
     "text": [
      "/usr/local/lib/python3.6/dist-packages/ipykernel/__main__.py:52: FutureWarning: split() requires a non-empty pattern match.\n"
     ]
    },
    {
     "name": "stdout",
     "output_type": "stream",
     "text": [
      "Indexing: http://emap.fgv.br/quem-somos\n",
      "Indexing: http://emap.fgv.br/institucional\n",
      "Indexing: http://emap.fgv.br/estrutura-organizacional\n",
      "Indexing: http://emap.fgv.br/comissao-propria-de-avaliacao\n",
      "Indexing: http://emap.fgv.br/pessoas\n",
      "Indexing: http://emap.fgv.br/noticias\n",
      "Indexing: http://emap.fgv.br/graduacao/apresentacao\n",
      "Indexing: http://emap.fgv.br/vestibular\n",
      "Indexing: http://emap.fgv.br/graduacao/grade-curricular\n",
      "Indexing: http://emap.fgv.br/horarios-calendarios\n",
      "Indexing: http://emap.fgv.br/graduacao/corpo-docente\n",
      "Indexing: http://emap.fgv.br/transferencia-portadores-de-diploma\n",
      "Indexing: http://emap.fgv.br/colocacao-profissional\n",
      "Indexing: http://emap.fgv.br/nucleo-de-apoio-pedagogico-nap\n",
      "Indexing: http://emap.fgv.br/academia-matematica\n",
      "Indexing: http://emap.fgv.br/mestrado/modelagem-matematica\n",
      "Indexing: http://emap.fgv.br/mestrado/disciplinas\n",
      "Indexing: http://emap.fgv.br/mestrado/corpo-docente\n",
      "Indexing: http://emap.fgv.br/processo-seletivo\n",
      "Indexing: http://emap.fgv.br/mestrado/dissertacoes\n",
      "Indexing: http://emap.fgv.br/curso-de-verao\n",
      "Indexing: http://emap.fgv.br/projetos-de-pesquisa-aplicada\n",
      "Indexing: http://emap.fgv.br/linhas-de-pesquisa\n",
      "Indexing: http://emap.fgv.br/publicacoes\n",
      "Indexing: http://emap.fgv.br/projetos-de-pesquisa-academica\n",
      "Indexing: http://emap.fgv.br/pesquisa-aplicada-andamento\n",
      "Indexing: http://emap.fgv.br/pesquisa-academica-andamento\n",
      "Indexing: http://emap.fgv.br/eventos\n",
      "Indexing: http://emap.fgv.br/seminarios\n",
      "Indexing: http://emap.fgv.br/cursos\n",
      "Indexing: http://emap.fgv.br/defesa-de-dissertacao\n",
      "Indexing: http://emap.fgv.br/contato\n",
      "Indexing: http://vestibular.fgv.br/dia-fgv-rj\n",
      "Indexing: http://emap.fgv.br/postdoctoral-position-applied-mathematics\n",
      "Indexing: http://vestibular.fgv.br/avise-me-proximo-vestibular-fgv\n",
      "Indexing: http://emap.fgv.br/mestrado/apresentacao\n",
      "Indexing: http://emap.fgv.br/noticias/fgv-emap-organiza-competicao-financas-quantitativas-para-alunos-de-mestrado-inscreva-se\n",
      "Indexing: http://emap.fgv.br/noticias/workshop-data-science-revolution-finance-ocorrera-dia-2411\n",
      "Indexing: http://emap.fgv.br/noticias/cnmai-comeca-segunda-feira-dia-2310\n",
      "Indexing: https://www.facebook.com/emap.fgv\n",
      "Indexing: https://twitter.com/fgv\n",
      "Indexing: https://www.youtube.com/channel/UC8DhN1cJi0QklBQot5hv_kg\n",
      "Indexing: https://eclass.fgv.br/\n",
      "Indexing: https://www.google.com/maps?ll=-22.940808,-43.180153&spn=0.011441,0.01929&cid=3352914085499141244&t=m&z=16&vpsrc=0\n",
      "Indexing: http://www.fgv.br/politica-privacidade/sites-fgv/politica-de-privacidade.pdf\n",
      "Indexing: http://portal.fgv.br\n",
      "Indexing: http://portal.fgv.br/en\n",
      "Indexing: http://portal.fgv.br/educacao/graduacao\n",
      "Indexing: http://graduacaotecnologica.fgv.br/\n",
      "Indexing: http://portal.fgv.br/educacao/mestrado-doutorado\n",
      "Indexing: http://portal.fgv.br/educacao/mba-pos\n",
      "Indexing: http://portal.fgv.br/educacao/cursos-extensao\n",
      "Indexing: http://incompany.fgv.br/\n",
      "Indexing: http://www5.fgv.br/fgvonline/\n",
      "Indexing: http://vestibular.fgv.br\n",
      "Indexing: http://ensinomediodigital.fgv.br/\n",
      "Indexing: http://portal.fgv.br/livros\n",
      "Indexing: http://editora.fgv.br\n",
      "Indexing: http://bibliotecadigital.fgv.br/\n",
      "Indexing: http://cpdoc.fgv.br\n",
      "Indexing: http://direitorio.fgv.br\n",
      "Indexing: http://direitosp.fgv.br\n",
      "Indexing: http://eaesp.fgvsp.br\n",
      "Indexing: http://ebape.fgv.br\n",
      "Indexing: http://eesp.fgv.br\n",
      "Indexing: http://emap.fgv.br\n",
      "Indexing: http://epge.fgv.br\n",
      "Indexing: https://portal.fgv.br/pesquisas-teses-publicacoes\n",
      "Indexing: http://fgvprojetos.fgv.br/\n",
      "Indexing: http://portalibre.fgv.br\n",
      "Indexing: http://ceri.fgv.br\n",
      "Indexing: http://dapp.fgv.br\n",
      "Indexing: http://dint.fgv.br\n",
      "Indexing: http://fgvenergia.fgv.br\n",
      "Indexing: http://cps.fgv.br\n",
      "Indexing: http://portal.fgv.br/areas/administracao\n",
      "Indexing: http://portal.fgv.br/areas/ciencias-sociais\n",
      "Indexing: http://portal.fgv.br/areas/direito\n",
      "Indexing: http://portal.fgv.br/areas/economia\n",
      "Indexing: http://portal.fgv.br/areas/matematica\n",
      "Indexing: https://www.facebook.com/Vestibular.FGV/\n",
      "Could not access page: https://www.linkedin.com/school/8175?pathWildcard=8175\n",
      "Indexing: https://www.instagram.com/fgv.oficial/\n",
      "Indexing: https://plus.google.com/+FGV\n",
      "Indexing: https://www.youtube.com/user/fgvtv\n",
      "Indexing: http://portal.fgv.br/noticias\n",
      "Indexing: http://portal.fgv.br/eventos\n"
     ]
    }
   ],
   "source": [
    "crawl.crawl(seed2,1)"
   ]
  },
  {
   "cell_type": "markdown",
   "metadata": {},
   "source": [
    "Calculates pagerank with n iterations"
   ]
  },
  {
   "cell_type": "code",
   "execution_count": 12,
   "metadata": {},
   "outputs": [
    {
     "name": "stdout",
     "output_type": "stream",
     "text": [
      "Iteration 0\n",
      "Iteration 1\n",
      "Iteration 2\n",
      "Iteration 3\n",
      "Iteration 4\n",
      "Iteration 5\n",
      "Iteration 6\n",
      "Iteration 7\n",
      "Iteration 8\n",
      "Iteration 9\n",
      "Iteration 10\n",
      "Iteration 11\n",
      "Iteration 12\n",
      "Iteration 13\n",
      "Iteration 14\n",
      "Iteration 15\n",
      "Iteration 16\n",
      "Iteration 17\n",
      "Iteration 18\n",
      "Iteration 19\n",
      "Iteration 20\n",
      "Iteration 21\n",
      "Iteration 22\n",
      "Iteration 23\n",
      "Iteration 24\n"
     ]
    }
   ],
   "source": [
    "crawl.calculatepagerank(25)"
   ]
  },
  {
   "cell_type": "markdown",
   "metadata": {},
   "source": [
    "Instantiating the searcher"
   ]
  },
  {
   "cell_type": "code",
   "execution_count": 13,
   "metadata": {
    "collapsed": true,
    "jupyter": {
     "outputs_hidden": true
    }
   },
   "outputs": [],
   "source": [
    "search = searcher(db)"
   ]
  },
  {
   "cell_type": "markdown",
   "metadata": {},
   "source": [
    "Querying the index"
   ]
  },
  {
   "cell_type": "code",
   "execution_count": 14,
   "metadata": {},
   "outputs": [
    {
     "name": "stdout",
     "output_type": "stream",
     "text": [
      "\n",
      "Resultados para busca por matemática:\n",
      "5.349990613415032\thttp://emap.fgv.br/graduacao/apresentacao\n",
      "5.275601205098057\thttp://emap.fgv.br/mestrado/modelagem-matematica\n",
      "4.395477485408656\thttp://emap.fgv.br/projetos-de-pesquisa-aplicada\n",
      "4.361390773371286\thttp://emap.fgv.br/quem-somos\n",
      "4.325050670951551\thttp://emap.fgv.br/\n",
      "4.082276804822115\thttp://emap.fgv.br/linhas-de-pesquisa\n",
      "3.968000123200454\thttp://emap.fgv.br\n",
      "3.828234198370277\thttp://emap.fgv.br/processo-seletivo\n",
      "3.797541474954284\thttp://emap.fgv.br/graduacao/grade-curricular\n",
      "3.7771173077403812\thttp://emap.fgv.br/curso-de-verao\n",
      "([26], [8, 17, 23, 2, 1, 24, 67, 20, 10, 22])\n"
     ]
    }
   ],
   "source": [
    "query = 'matemática'\n",
    "print(search.query(query))"
   ]
  },
  {
   "cell_type": "code",
   "execution_count": 15,
   "metadata": {
    "collapsed": true,
    "jupyter": {
     "outputs_hidden": true
    }
   },
   "outputs": [],
   "source": [
    "conn=sqlite.connect(db)"
   ]
  },
  {
   "cell_type": "code",
   "execution_count": 16,
   "metadata": {},
   "outputs": [
    {
     "data": {
      "text/html": [
       "<div>\n",
       "<style scoped>\n",
       "    .dataframe tbody tr th:only-of-type {\n",
       "        vertical-align: middle;\n",
       "    }\n",
       "\n",
       "    .dataframe tbody tr th {\n",
       "        vertical-align: top;\n",
       "    }\n",
       "\n",
       "    .dataframe thead th {\n",
       "        text-align: right;\n",
       "    }\n",
       "</style>\n",
       "<table border=\"1\" class=\"dataframe\">\n",
       "  <thead>\n",
       "    <tr style=\"text-align: right;\">\n",
       "      <th></th>\n",
       "      <th>url</th>\n",
       "    </tr>\n",
       "  </thead>\n",
       "  <tbody>\n",
       "    <tr>\n",
       "      <th>0</th>\n",
       "      <td>http://emap.fgv.br/</td>\n",
       "    </tr>\n",
       "    <tr>\n",
       "      <th>1</th>\n",
       "      <td>http://emap.fgv.br/quem-somos</td>\n",
       "    </tr>\n",
       "    <tr>\n",
       "      <th>2</th>\n",
       "      <td>http://emap.fgv.br/institucional</td>\n",
       "    </tr>\n",
       "    <tr>\n",
       "      <th>3</th>\n",
       "      <td>http://emap.fgv.br/estrutura-organizacional</td>\n",
       "    </tr>\n",
       "    <tr>\n",
       "      <th>4</th>\n",
       "      <td>http://emap.fgv.br/comissao-propria-de-avaliacao</td>\n",
       "    </tr>\n",
       "  </tbody>\n",
       "</table>\n",
       "</div>"
      ],
      "text/plain": [
       "                                                url\n",
       "0                               http://emap.fgv.br/\n",
       "1                     http://emap.fgv.br/quem-somos\n",
       "2                  http://emap.fgv.br/institucional\n",
       "3       http://emap.fgv.br/estrutura-organizacional\n",
       "4  http://emap.fgv.br/comissao-propria-de-avaliacao"
      ]
     },
     "execution_count": 16,
     "metadata": {},
     "output_type": "execute_result"
    }
   ],
   "source": [
    "df_mysql1 = psql.read_sql('select * from urllist;', con=conn)\n",
    "df_mysql1.head()"
   ]
  },
  {
   "cell_type": "code",
   "execution_count": 21,
   "metadata": {},
   "outputs": [
    {
     "data": {
      "text/plain": [
       "url    http://emap.fgv.br/\n",
       "Name: 0, dtype: object"
      ]
     },
     "execution_count": 21,
     "metadata": {},
     "output_type": "execute_result"
    }
   ],
   "source": [
    "df_mysql1.loc[0]"
   ]
  },
  {
   "cell_type": "code",
   "execution_count": 18,
   "metadata": {},
   "outputs": [
    {
     "data": {
      "text/html": [
       "<div>\n",
       "<style scoped>\n",
       "    .dataframe tbody tr th:only-of-type {\n",
       "        vertical-align: middle;\n",
       "    }\n",
       "\n",
       "    .dataframe tbody tr th {\n",
       "        vertical-align: top;\n",
       "    }\n",
       "\n",
       "    .dataframe thead th {\n",
       "        text-align: right;\n",
       "    }\n",
       "</style>\n",
       "<table border=\"1\" class=\"dataframe\">\n",
       "  <thead>\n",
       "    <tr style=\"text-align: right;\">\n",
       "      <th></th>\n",
       "      <th>fromid</th>\n",
       "      <th>toid</th>\n",
       "    </tr>\n",
       "  </thead>\n",
       "  <tbody>\n",
       "    <tr>\n",
       "      <th>0</th>\n",
       "      <td>1</td>\n",
       "      <td>2</td>\n",
       "    </tr>\n",
       "    <tr>\n",
       "      <th>1</th>\n",
       "      <td>1</td>\n",
       "      <td>2</td>\n",
       "    </tr>\n",
       "    <tr>\n",
       "      <th>2</th>\n",
       "      <td>1</td>\n",
       "      <td>3</td>\n",
       "    </tr>\n",
       "    <tr>\n",
       "      <th>3</th>\n",
       "      <td>1</td>\n",
       "      <td>4</td>\n",
       "    </tr>\n",
       "    <tr>\n",
       "      <th>4</th>\n",
       "      <td>1</td>\n",
       "      <td>5</td>\n",
       "    </tr>\n",
       "  </tbody>\n",
       "</table>\n",
       "</div>"
      ],
      "text/plain": [
       "   fromid  toid\n",
       "0       1     2\n",
       "1       1     2\n",
       "2       1     3\n",
       "3       1     4\n",
       "4       1     5"
      ]
     },
     "execution_count": 18,
     "metadata": {},
     "output_type": "execute_result"
    }
   ],
   "source": [
    "df_mysql2 = psql.read_sql('select * from link;', con=conn)\n",
    "df_mysql2.head()"
   ]
  },
  {
   "cell_type": "code",
   "execution_count": 22,
   "metadata": {},
   "outputs": [
    {
     "name": "stdout",
     "output_type": "stream",
     "text": [
      "Link entre as páginas http://emap.fgv.br/quem-somos --> http://emap.fgv.br/institucional\n",
      "Link entre as páginas http://emap.fgv.br/quem-somos --> http://emap.fgv.br/institucional\n",
      "Link entre as páginas http://emap.fgv.br/quem-somos --> http://emap.fgv.br/estrutura-organizacional\n",
      "Link entre as páginas http://emap.fgv.br/quem-somos --> http://emap.fgv.br/comissao-propria-de-avaliacao\n",
      "Link entre as páginas http://emap.fgv.br/quem-somos --> http://emap.fgv.br/pessoas\n",
      "Link entre as páginas http://emap.fgv.br/quem-somos --> http://emap.fgv.br/noticias\n",
      "Link entre as páginas http://emap.fgv.br/quem-somos --> http://emap.fgv.br/graduacao/apresentacao\n",
      "Link entre as páginas http://emap.fgv.br/quem-somos --> http://emap.fgv.br/vestibular\n",
      "Link entre as páginas http://emap.fgv.br/quem-somos --> http://emap.fgv.br/vestibular\n",
      "Link entre as páginas http://emap.fgv.br/quem-somos --> http://emap.fgv.br/graduacao/grade-curricular\n"
     ]
    }
   ],
   "source": [
    "for i in range(10):\n",
    "    print('Link entre as páginas {} --> {}'.format(df_mysql1['url'].loc[df_mysql2['fromid'].loc[i]],\n",
    "                                                   df_mysql1['url'].loc[df_mysql2['toid'].loc[i]]))"
   ]
  },
  {
   "cell_type": "code",
   "execution_count": 20,
   "metadata": {
    "collapsed": true,
    "jupyter": {
     "outputs_hidden": true
    }
   },
   "outputs": [],
   "source": [
    "conn.close()"
   ]
  }
 ],
 "metadata": {
  "kernelspec": {
   "display_name": "Python 3",
   "language": "python",
   "name": "python3"
  },
  "language_info": {
   "codemirror_mode": {
    "name": "ipython",
    "version": 3
   },
   "file_extension": ".py",
   "mimetype": "text/x-python",
   "name": "python",
   "nbconvert_exporter": "python",
   "pygments_lexer": "ipython3",
   "version": "3.7.6"
  }
 },
 "nbformat": 4,
 "nbformat_minor": 4
}
